{
 "cells": [
  {
   "cell_type": "code",
   "execution_count": 1,
   "id": "8f0a8e8d-d9bd-4f0d-9fb5-2d2aa4c7314e",
   "metadata": {},
   "outputs": [],
   "source": [
    "import requests\n",
    "import pandas as pd\n",
    "import json"
   ]
  },
  {
   "cell_type": "code",
   "execution_count": 2,
   "id": "dedbebae-0042-47b3-be98-96fc76be005f",
   "metadata": {},
   "outputs": [
    {
     "name": "stdout",
     "output_type": "stream",
     "text": [
      "1\n",
      "\n"
     ]
    }
   ],
   "source": [
    "r = requests.get('http://flask:5000/status')\n",
    "print(r.text)"
   ]
  },
  {
   "cell_type": "code",
   "execution_count": 3,
   "id": "36c08a82-3271-462c-8f18-1a51e63010aa",
   "metadata": {},
   "outputs": [
    {
     "name": "stdout",
     "output_type": "stream",
     "text": [
      "{\n",
      "  \"main_category\": \"food_beverages_tobacco\",\n",
      "  \"sub_category\": \"grocery_stores_markets\",\n",
      "  \"sub_sub_category\": \"supermarket\"\n",
      "}\n",
      "\n"
     ]
    }
   ],
   "source": [
    "r = requests.get('http://flask:5000/get_website_info/carrefour')\n",
    "print(r.text)"
   ]
  },
  {
   "cell_type": "code",
   "execution_count": 4,
   "id": "76344912-bc36-4592-a492-6895b5255e07",
   "metadata": {},
   "outputs": [
    {
     "name": "stdout",
     "output_type": "stream",
     "text": [
      "{'site_name': 'carrefour', 'main_category': 'Commerce de détail', 'sub_category': 'Supermarché', 'sub_sub_category': 'Produits alimentaires', 'title': 'Critique du marché Carrefour', 'comment': 'Mauvais site, produit tres  cher'}\n"
     ]
    }
   ],
   "source": [
    "myobj = {\"site_name\": \"carrefour\", \"main_category\": \"Commerce de détail\", \"sub_category\": \"Supermarché\", \n",
    "\"sub_sub_category\": \"Produits alimentaires\", \"title\": \"Critique du marché Carrefour\", \"comment\": \n",
    "\"Mauvais site, produit tres  cher\"}\n",
    "print(myobj)"
   ]
  },
  {
   "cell_type": "code",
   "execution_count": 5,
   "id": "9ff4a4c4-16ce-41f3-898d-93ae7195653e",
   "metadata": {},
   "outputs": [],
   "source": [
    "r = requests.post('http://flask:5000/predict', json = myobj)"
   ]
  },
  {
   "cell_type": "code",
   "execution_count": 6,
   "id": "ee633524-09e0-48b7-820c-d78535f9236c",
   "metadata": {},
   "outputs": [
    {
     "name": "stdout",
     "output_type": "stream",
     "text": [
      "{\n",
      "  \"score\": 1\n",
      "}\n",
      "\n"
     ]
    }
   ],
   "source": [
    "print(r.text)"
   ]
  },
  {
   "cell_type": "code",
   "execution_count": null,
   "id": "d0cc3958-e190-44e2-a067-3f7114407919",
   "metadata": {},
   "outputs": [],
   "source": []
  },
  {
   "cell_type": "code",
   "execution_count": null,
   "id": "cd0a34ca-ce30-47b7-bb3c-d7727ba11971",
   "metadata": {},
   "outputs": [],
   "source": []
  },
  {
   "cell_type": "code",
   "execution_count": null,
   "id": "11d245b9-7c18-4a01-abf7-957699240fad",
   "metadata": {},
   "outputs": [],
   "source": []
  },
  {
   "cell_type": "code",
   "execution_count": null,
   "id": "a2e4498e-a452-4989-a812-87e1497e7f74",
   "metadata": {},
   "outputs": [],
   "source": [
    "###################################"
   ]
  },
  {
   "cell_type": "code",
   "execution_count": null,
   "id": "a56b2582-8387-4ca5-96e7-6f3cbf4ead94",
   "metadata": {},
   "outputs": [],
   "source": [
    "# convert csv to json\n",
    "#df = pd.read_csv(\"../../data_csv/capterra.csv\")\n",
    "#with open(\"../../requirements/mongo/data/json/capterra.json\", \"w\") as outfile:\n",
    "#    json.dump(df.to_dict(orient='records'), outfile)"
   ]
  },
  {
   "cell_type": "code",
   "execution_count": null,
   "id": "b1755daa-0213-49a7-b11b-3457c5c085f3",
   "metadata": {},
   "outputs": [],
   "source": [
    "# Extract Load Transform\n",
    "# see the content of MongoDB\n",
    "#r = requests.get('http://flask:5000')\n",
    "#print(r.text)"
   ]
  }
 ],
 "metadata": {
  "kernelspec": {
   "display_name": "Python 3 (ipykernel)",
   "language": "python",
   "name": "python3"
  },
  "language_info": {
   "codemirror_mode": {
    "name": "ipython",
    "version": 3
   },
   "file_extension": ".py",
   "mimetype": "text/x-python",
   "name": "python",
   "nbconvert_exporter": "python",
   "pygments_lexer": "ipython3",
   "version": "3.8.19"
  }
 },
 "nbformat": 4,
 "nbformat_minor": 5
}
