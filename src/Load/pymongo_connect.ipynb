{
 "cells": [
  {
   "cell_type": "code",
   "execution_count": null,
   "id": "6091fd42",
   "metadata": {},
   "outputs": [],
   "source": [
    "# load data file books.json to /data/db\n",
    "#! wget -P /data/db https://dst-de.s3.eu-west-3.amazonaws.com/mongo_fr/books.json"
   ]
  },
  {
   "cell_type": "code",
   "execution_count": null,
   "id": "8293c32f",
   "metadata": {},
   "outputs": [],
   "source": [
    "# Add data file to database\n",
    "\n",
    "# The first approach\n",
    "# import json\n",
    "# file_data = json.loads('/data/db/books.json')\n",
    "# Unfortunately, it does not work\n",
    "# JSONDecodeError: Expecting value: line 1 column 1 (char 0)\n",
    "\n",
    "# The second approach\n",
    "# launch this inside my_mongo container\n",
    "\n",
    "# docker exec -it my_mongo bash\n",
    "# mongoimport -d sample -c books --authenticationDatabase admin --username admin --password pass --file data/db/books.json\n",
    "# 2023-10-06T19:25:23.423+0000\tconnected to: mongodb://localhost/\n",
    "# 2023-10-06T19:25:23.468+0000\t431 document(s) imported successfully. 0 document(s) failed to import."
   ]
  },
  {
   "cell_type": "code",
   "execution_count": 1,
   "id": "81255715",
   "metadata": {},
   "outputs": [],
   "source": [
    "# Pour se connecter à MongoDB via pymongo\n",
    "\n",
    "from pymongo import MongoClient\n",
    "from pprint import pprint\n",
    "import json\n",
    "client = MongoClient(\n",
    "    host=\"my_mongo\",\n",
    "    port = 27017,\n",
    "    username=\"admin\", \n",
    "    password=\"pass\"\n",
    ")"
   ]
  },
  {
   "cell_type": "code",
   "execution_count": 2,
   "id": "53a950a8",
   "metadata": {},
   "outputs": [
    {
     "name": "stdout",
     "output_type": "stream",
     "text": [
      "['admin', 'config', 'local', 'sentiments']\n",
      "['capterra']\n"
     ]
    }
   ],
   "source": [
    "# la liste des bases de données disponibles\n",
    "print(client.list_database_names())\n",
    "\n",
    "# la liste des collections disponibles \n",
    "sample = client[\"sentiments\"]\n",
    "print(sample.list_collection_names())"
   ]
  },
  {
   "cell_type": "code",
   "execution_count": 4,
   "id": "2ba91e1b",
   "metadata": {},
   "outputs": [],
   "source": [
    "# un des documents de cette collection\n",
    "col = sample[\"capterra\"]\n",
    "# pprint(list(col.find())[140])"
   ]
  },
  {
   "cell_type": "code",
   "execution_count": null,
   "id": "2906a7d1-79ae-41ea-acbf-4cb64ca7d68f",
   "metadata": {},
   "outputs": [],
   "source": []
  }
 ],
 "metadata": {
  "kernelspec": {
   "display_name": "Python 3 (ipykernel)",
   "language": "python",
   "name": "python3"
  },
  "language_info": {
   "codemirror_mode": {
    "name": "ipython",
    "version": 3
   },
   "file_extension": ".py",
   "mimetype": "text/x-python",
   "name": "python",
   "nbconvert_exporter": "python",
   "pygments_lexer": "ipython3",
   "version": "3.8.19"
  }
 },
 "nbformat": 4,
 "nbformat_minor": 5
}
