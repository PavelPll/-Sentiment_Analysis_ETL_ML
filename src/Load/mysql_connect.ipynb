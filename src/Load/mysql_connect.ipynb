{
 "cells": [
  {
   "cell_type": "code",
   "execution_count": 6,
   "id": "03d6c7ed-e128-445d-a80c-eefec5d692db",
   "metadata": {},
   "outputs": [],
   "source": [
    "import mysql.connector\n",
    "from sqlalchemy import create_engine\n",
    "import pandas as pd"
   ]
  },
  {
   "cell_type": "code",
   "execution_count": 7,
   "id": "194dee77-042c-41de-a6a2-afc2d14698e8",
   "metadata": {},
   "outputs": [
    {
     "name": "stdout",
     "output_type": "stream",
     "text": [
      "Connection established\n",
      "Database created successfully\n"
     ]
    }
   ],
   "source": [
    "# Connect to the mysql server\n",
    "# https://www.kaggle.com/code/dilarabr/writing-pandas-dataframe-to-mysql\n",
    "\n",
    "try:\n",
    "    mydb = mysql.connector.connect(\n",
    "        host=\"mysql\",\n",
    "        user=\"root\",\n",
    "        password=\"Password\"\n",
    ")\n",
    "    print(\"Connection established\")\n",
    "    cursor = mydb.cursor()\n",
    "    cursor.execute(\"create database if not exists new_db\")\n",
    "    mydb.commit()\n",
    "    print(\"Database created successfully\")\n",
    "    cursor.execute(\"use new_db\")\n",
    "\n",
    "except mysql.connector.Error as err:\n",
    "    print(\"An error occurred:\", err)"
   ]
  },
  {
   "cell_type": "code",
   "execution_count": 8,
   "id": "8026de64-5df2-455a-927f-dbd87e84fa46",
   "metadata": {},
   "outputs": [],
   "source": [
    "# create engine\n",
    "\n",
    "hostname= \"mysql\"\n",
    "database= \"new_db\"\n",
    "username= \"root\"\n",
    "password= \"ChangeMeToSuperSecurePassword\"\n",
    "\n",
    "engine = create_engine(\"mysql+pymysql://{user}:{pw}@{host}/{db}\".format(host=hostname, db=database, user=username, pw=password))"
   ]
  },
  {
   "cell_type": "code",
   "execution_count": 9,
   "id": "97632ce6-8d7f-43f4-beb3-2d9a66807257",
   "metadata": {},
   "outputs": [],
   "source": [
    "# READ data extracted previously from the website Capterra and transformed\n",
    "df = pd.read_csv(\"../../data_csv/capterra.csv\")\n"
   ]
  },
  {
   "cell_type": "code",
   "execution_count": 10,
   "id": "56099cfc-e68f-478d-9397-7c83433ad980",
   "metadata": {},
   "outputs": [
    {
     "data": {
      "text/plain": [
       "36189"
      ]
     },
     "execution_count": 10,
     "metadata": {},
     "output_type": "execute_result"
    }
   ],
   "source": [
    "# Load data into database\n",
    "df.to_sql('table1', engine, if_exists='replace', index=False)"
   ]
  },
  {
   "cell_type": "code",
   "execution_count": 11,
   "id": "1243455c-015c-443f-ba42-f5334093e1b1",
   "metadata": {},
   "outputs": [
    {
     "name": "stdout",
     "output_type": "stream",
     "text": [
      "The las value of the first row is: 5.000458325339689\n"
     ]
    }
   ],
   "source": [
    "# READ data in from mysql\n",
    "\n",
    "cursor.execute(\"use new_db\")\n",
    "cursor.execute('''  SELECT * from table1 ''')\n",
    "\n",
    "rows = cursor.fetchall()\n",
    "print(\"The last value of the first row is: {}\".format(rows[0][-1]))\n",
    "\n"
   ]
  },
  {
   "cell_type": "code",
   "execution_count": null,
   "id": "1280c6b4-3afa-4062-a527-281527ff46f5",
   "metadata": {},
   "outputs": [],
   "source": []
  }
 ],
 "metadata": {
  "kernelspec": {
   "display_name": "Python 3 (ipykernel)",
   "language": "python",
   "name": "python3"
  },
  "language_info": {
   "codemirror_mode": {
    "name": "ipython",
    "version": 3
   },
   "file_extension": ".py",
   "mimetype": "text/x-python",
   "name": "python",
   "nbconvert_exporter": "python",
   "pygments_lexer": "ipython3",
   "version": "3.8.19"
  }
 },
 "nbformat": 4,
 "nbformat_minor": 5
}
